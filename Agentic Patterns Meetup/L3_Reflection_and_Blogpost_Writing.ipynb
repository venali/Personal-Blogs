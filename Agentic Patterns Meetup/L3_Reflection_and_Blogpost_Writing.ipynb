{
 "cells": [
  {
   "cell_type": "markdown",
   "id": "fc3024e2",
   "metadata": {},
   "source": [
    "# Lesson 3: Reflection and Blogpost Writing"
   ]
  },
  {
   "cell_type": "markdown",
   "id": "3b0cc42f",
   "metadata": {},
   "source": [
    "## Setup"
   ]
  },
  {
   "cell_type": "code",
   "execution_count": 1,
   "id": "96d39be0-eaf3-456d-8613-ba21099ed36b",
   "metadata": {
    "height": 30
   },
   "outputs": [],
   "source": [
    "llm_config = {\"model\": \"gpt-3.5-turbo\"}"
   ]
  },
  {
   "cell_type": "markdown",
   "id": "0969e6bb",
   "metadata": {},
   "source": [
    "## The task!"
   ]
  },
  {
   "cell_type": "code",
   "execution_count": 2,
   "id": "e8074032-3690-4de9-ad08-ea8323cb441b",
   "metadata": {
    "height": 115
   },
   "outputs": [],
   "source": [
    "task = '''\n",
    "        Write a concise but engaging blogpost about\n",
    "       DeepLearning.AI. Make sure the blogpost is\n",
    "       within 100 words.\n",
    "       '''\n"
   ]
  },
  {
   "cell_type": "markdown",
   "id": "1987f023",
   "metadata": {},
   "source": [
    "## Create a writer agent"
   ]
  },
  {
   "cell_type": "code",
   "execution_count": 3,
   "id": "fe0f0a47-a9fe-43a0-b7b1-79922e4c4ac8",
   "metadata": {
    "height": 183
   },
   "outputs": [],
   "source": [
    "import autogen\n",
    "\n",
    "writer = autogen.AssistantAgent(\n",
    "    name=\"Writer\",\n",
    "    system_message=\"You are a writer. You write engaging and concise \" \n",
    "        \"blogpost (with title) on given topics. You must polish your \"\n",
    "        \"writing based on the feedback you receive and give a refined \"\n",
    "        \"version. Only return your final work without additional comments.\",\n",
    "    llm_config=llm_config,\n",
    ")"
   ]
  },
  {
   "cell_type": "code",
   "execution_count": 4,
   "id": "7c7b4d8d-40f7-4a05-8958-25d20054de3a",
   "metadata": {
    "height": 30
   },
   "outputs": [],
   "source": [
    "reply = writer.generate_reply(messages=[{\"content\": task, \"role\": \"user\"}])"
   ]
  },
  {
   "cell_type": "code",
   "execution_count": 5,
   "id": "c501c97d-e338-4f36-a384-6ec45983cf77",
   "metadata": {
    "height": 30
   },
   "outputs": [
    {
     "name": "stdout",
     "output_type": "stream",
     "text": [
      "Title: Unveiling the Power of DeepLearning.AI\n",
      "\n",
      "Are you ready to dive into the world of artificial intelligence and machine learning? Look no further than DeepLearning.AI. Created by renowned expert Andrew Ng, this platform offers top-notch courses that will equip you with the knowledge and skills needed to thrive in the rapidly evolving tech industry. From deep learning to neural networks, DeepLearning.AI covers it all in an engaging and accessible way. Whether you're a beginner or an experienced professional, there's something for everyone. Join the millions of learners worldwide who have already transformed their careers with DeepLearning.AI. It's time to unlock your potential!\n"
     ]
    }
   ],
   "source": [
    "print(reply)"
   ]
  },
  {
   "cell_type": "markdown",
   "id": "49658114",
   "metadata": {},
   "source": [
    "## Adding reflection \n",
    "\n",
    "Create a critic agent to reflect on the work of the writer agent."
   ]
  },
  {
   "cell_type": "code",
   "execution_count": 6,
   "id": "c7fcd1c7-51ec-4915-8e97-bac03565c4c7",
   "metadata": {
    "height": 149
   },
   "outputs": [],
   "source": [
    "critic = autogen.AssistantAgent(\n",
    "    name=\"Critic\",\n",
    "    is_termination_msg=lambda x: x.get(\"content\", \"\").find(\"TERMINATE\") >= 0,\n",
    "    llm_config=llm_config,\n",
    "    system_message=\"You are a critic. You review the work of \"\n",
    "                \"the writer and provide constructive \"\n",
    "                \"feedback to help improve the quality of the content.\",\n",
    ")"
   ]
  },
  {
   "cell_type": "code",
   "execution_count": 7,
   "id": "899d5fdb-6081-470b-b287-8cf8b8142d0d",
   "metadata": {
    "height": 115
   },
   "outputs": [
    {
     "name": "stdout",
     "output_type": "stream",
     "text": [
      "\u001b[33mCritic\u001b[0m (to Writer):\n",
      "\n",
      "\n",
      "        Write a concise but engaging blogpost about\n",
      "       DeepLearning.AI. Make sure the blogpost is\n",
      "       within 100 words.\n",
      "       \n",
      "\n",
      "--------------------------------------------------------------------------------\n",
      "\u001b[33mWriter\u001b[0m (to Critic):\n",
      "\n",
      "Title: Unveiling the Power of DeepLearning.AI\n",
      "\n",
      "Are you ready to dive into the world of artificial intelligence and machine learning? Look no further than DeepLearning.AI. Created by renowned expert Andrew Ng, this platform offers top-notch courses that will equip you with the knowledge and skills needed to thrive in the rapidly evolving tech industry. From deep learning to neural networks, DeepLearning.AI covers it all in an engaging and accessible way. Whether you're a beginner or an experienced professional, there's something for everyone. Join the millions of learners worldwide who have already transformed their careers with DeepLearning.AI. It's time to unlock your potential!\n",
      "\n",
      "--------------------------------------------------------------------------------\n",
      "\u001b[33mCritic\u001b[0m (to Writer):\n",
      "\n",
      "Overall, your blog post is concise and engaging. You effectively convey the benefits of DeepLearning.AI and capture the reader's attention with a call to action. To improve the quality of the content, consider adding specific examples of the courses offered by DeepLearning.AI and highlighting any unique features that set it apart from other platforms. Providing testimonials or success stories from learners who have benefitted from DeepLearning.AI could also make the blog post more compelling. Additionally, ensuring that the tone is consistent throughout and eliminating any repetitive phrases will enhance the overall readability of the post.\n",
      "\n",
      "--------------------------------------------------------------------------------\n",
      "\u001b[33mWriter\u001b[0m (to Critic):\n",
      "\n",
      "Title: Unleashing the Potential of DeepLearning.AI\n",
      "\n",
      "Discover the gateway to artificial intelligence and machine learning through DeepLearning.AI. Spearheaded by AI expert Andrew Ng, this platform delivers cutting-edge courses on deep learning, neural networks, and beyond. Stand out in the tech realm with hands-on experiences and real-world applications. From beginner basics to advanced techniques, DeepLearning.AI caters to all skill levels. What sets it apart? Engaging content, expert instruction, and a global community of learners. Gain inspiration from success stories, sharpen your skills, and redefine your career trajectory with DeepLearning.AI. Join the multitude of learners reshaping the future – start your journey today.\n",
      "\n",
      "--------------------------------------------------------------------------------\n"
     ]
    }
   ],
   "source": [
    "res = critic.initiate_chat(\n",
    "    recipient=writer,\n",
    "    message=task,\n",
    "    max_turns=2,\n",
    "    summary_method=\"last_msg\"\n",
    ")"
   ]
  },
  {
   "cell_type": "markdown",
   "id": "e7b76449",
   "metadata": {},
   "source": [
    "## Nested chat"
   ]
  },
  {
   "cell_type": "code",
   "execution_count": 8,
   "id": "401ecf92-63e9-40ff-aeed-1c404352e4ab",
   "metadata": {
    "height": 200
   },
   "outputs": [],
   "source": [
    "SEO_reviewer = autogen.AssistantAgent(\n",
    "    name=\"SEO Reviewer\",\n",
    "    llm_config=llm_config,\n",
    "    system_message=\"You are an SEO reviewer, known for \"\n",
    "        \"your ability to optimize content for search engines, \"\n",
    "        \"ensuring that it ranks well and attracts organic traffic. \" \n",
    "        \"Make sure your suggestion is concise (within 3 bullet points), \"\n",
    "        \"concrete and to the point. \"\n",
    "        \"Begin the review by stating your role.\",\n",
    ")\n"
   ]
  },
  {
   "cell_type": "code",
   "execution_count": 9,
   "id": "f85acb81-7ab9-4c84-b8bb-6fbae3dce848",
   "metadata": {
    "height": 183
   },
   "outputs": [],
   "source": [
    "legal_reviewer = autogen.AssistantAgent(\n",
    "    name=\"Legal Reviewer\",\n",
    "    llm_config=llm_config,\n",
    "    system_message=\"You are a legal reviewer, known for \"\n",
    "        \"your ability to ensure that content is legally compliant \"\n",
    "        \"and free from any potential legal issues. \"\n",
    "        \"Make sure your suggestion is concise (within 3 bullet points), \"\n",
    "        \"concrete and to the point. \"\n",
    "        \"Begin the review by stating your role.\",\n",
    ")"
   ]
  },
  {
   "cell_type": "code",
   "execution_count": 10,
   "id": "d46a177a-8088-4956-8d2b-3e916b8ca5e9",
   "metadata": {
    "height": 183
   },
   "outputs": [],
   "source": [
    "ethics_reviewer = autogen.AssistantAgent(\n",
    "    name=\"Ethics Reviewer\",\n",
    "    llm_config=llm_config,\n",
    "    system_message=\"You are an ethics reviewer, known for \"\n",
    "        \"your ability to ensure that content is ethically sound \"\n",
    "        \"and free from any potential ethical issues. \" \n",
    "        \"Make sure your suggestion is concise (within 3 bullet points), \"\n",
    "        \"concrete and to the point. \"\n",
    "        \"Begin the review by stating your role. \",\n",
    ")"
   ]
  },
  {
   "cell_type": "code",
   "execution_count": 11,
   "id": "a7b2ad6f-8ba6-436a-9459-14ffbe8a32d3",
   "metadata": {
    "height": 115
   },
   "outputs": [],
   "source": [
    "meta_reviewer = autogen.AssistantAgent(\n",
    "    name=\"Meta Reviewer\",\n",
    "    llm_config=llm_config,\n",
    "    system_message=\"You are a meta reviewer, you aggragate and review \"\n",
    "    \"the work of other reviewers and give a final suggestion on the content.\",\n",
    ")"
   ]
  },
  {
   "cell_type": "markdown",
   "id": "913beca1",
   "metadata": {},
   "source": [
    "## Orchestrate the nested chats to solve the task"
   ]
  },
  {
   "cell_type": "code",
   "execution_count": 12,
   "id": "a11a70c7-19ca-4e5a-ad3d-f2b481fb5915",
   "metadata": {
    "height": 540
   },
   "outputs": [],
   "source": [
    "def reflection_message(recipient, messages, sender, config):\n",
    "    return f'''Review the following content. \n",
    "            \\n\\n {recipient.chat_messages_for_summary(sender)[-1]['content']}'''\n",
    "\n",
    "review_chats = [\n",
    "    {\n",
    "     \"recipient\": SEO_reviewer, \n",
    "     \"message\": reflection_message, \n",
    "     \"summary_method\": \"reflection_with_llm\",\n",
    "     \"summary_args\": {\"summary_prompt\" : \n",
    "        \"Return review into as JSON object only:\"\n",
    "        \"{'Reviewer': '', 'Review': ''}. Here Reviewer should be your role\",},\n",
    "     \"max_turns\": 1},\n",
    "    {\n",
    "    \"recipient\": legal_reviewer, \"message\": reflection_message, \n",
    "     \"summary_method\": \"reflection_with_llm\",\n",
    "     \"summary_args\": {\"summary_prompt\" : \n",
    "        \"Return review into as JSON object only:\"\n",
    "        \"{'Reviewer': '', 'Review': ''}.\",},\n",
    "     \"max_turns\": 1},\n",
    "    {\"recipient\": ethics_reviewer, \"message\": reflection_message, \n",
    "     \"summary_method\": \"reflection_with_llm\",\n",
    "     \"summary_args\": {\"summary_prompt\" : \n",
    "        \"Return review into as JSON object only:\"\n",
    "        \"{'reviewer': '', 'review': ''}\",},\n",
    "     \"max_turns\": 1},\n",
    "     {\"recipient\": meta_reviewer, \n",
    "      \"message\": \"Aggregrate feedback from all reviewers and give final suggestions on the writing.\", \n",
    "     \"max_turns\": 1},\n",
    "]\n"
   ]
  },
  {
   "cell_type": "code",
   "execution_count": 13,
   "id": "b3a40b66-5061-460d-ad9d-c0dbcfbba2e9",
   "metadata": {
    "height": 81
   },
   "outputs": [],
   "source": [
    "critic.register_nested_chats(\n",
    "    review_chats,\n",
    "    trigger=writer,\n",
    ")"
   ]
  },
  {
   "cell_type": "markdown",
   "id": "43b8797d",
   "metadata": {},
   "source": [
    "**Note**: You might get a slightly different response than what's shown in the video. Feel free to try different task."
   ]
  },
  {
   "cell_type": "code",
   "execution_count": 14,
   "id": "3b8dcac3-1e72-43b7-9d5a-1be740f6efd5",
   "metadata": {
    "height": 115
   },
   "outputs": [
    {
     "name": "stdout",
     "output_type": "stream",
     "text": [
      "\u001b[33mCritic\u001b[0m (to Writer):\n",
      "\n",
      "\n",
      "        Write a concise but engaging blogpost about\n",
      "       DeepLearning.AI. Make sure the blogpost is\n",
      "       within 100 words.\n",
      "       \n",
      "\n",
      "--------------------------------------------------------------------------------\n",
      "\u001b[33mWriter\u001b[0m (to Critic):\n",
      "\n",
      "Title: Unveiling the Power of DeepLearning.AI\n",
      "\n",
      "Are you ready to dive into the world of artificial intelligence and machine learning? Look no further than DeepLearning.AI. Created by renowned expert Andrew Ng, this platform offers top-notch courses that will equip you with the knowledge and skills needed to thrive in the rapidly evolving tech industry. From deep learning to neural networks, DeepLearning.AI covers it all in an engaging and accessible way. Whether you're a beginner or an experienced professional, there's something for everyone. Join the millions of learners worldwide who have already transformed their careers with DeepLearning.AI. It's time to unlock your potential!\n",
      "\n",
      "--------------------------------------------------------------------------------\n",
      "\u001b[34m\n",
      "********************************************************************************\u001b[0m\n",
      "\u001b[34mStarting a new chat....\u001b[0m\n",
      "\u001b[34m\n",
      "********************************************************************************\u001b[0m\n",
      "\u001b[33mCritic\u001b[0m (to SEO Reviewer):\n",
      "\n",
      "Review the following content. \n",
      "            \n",
      "\n",
      " Title: Unveiling the Power of DeepLearning.AI\n",
      "\n",
      "Are you ready to dive into the world of artificial intelligence and machine learning? Look no further than DeepLearning.AI. Created by renowned expert Andrew Ng, this platform offers top-notch courses that will equip you with the knowledge and skills needed to thrive in the rapidly evolving tech industry. From deep learning to neural networks, DeepLearning.AI covers it all in an engaging and accessible way. Whether you're a beginner or an experienced professional, there's something for everyone. Join the millions of learners worldwide who have already transformed their careers with DeepLearning.AI. It's time to unlock your potential!\n",
      "\n",
      "--------------------------------------------------------------------------------\n",
      "\u001b[33mSEO Reviewer\u001b[0m (to Critic):\n",
      "\n",
      "As an SEO reviewer:\n",
      "\n",
      "1. Title optimization: Consider using specific keywords related to deep learning, AI, and Andrew Ng to improve search engine visibility. For example, \"Master AI with Andrew Ng's DeepLearning.AI: Courses for All Skill Levels.\"\n",
      "   \n",
      "2. Incorporate relevant keywords: Integrate key terms like artificial intelligence, machine learning, deep learning, Andrew Ng, online courses, etc., strategically throughout the content to enhance search engine optimization.\n",
      "   \n",
      "3. Call-to-action enhancement: Strengthen the call-to-action by including actionable phrases like \"Start learning today!\" or \"Discover your AI potential with DeepLearning.AI\" to prompt user engagement and potentially improve conversion rates.\n",
      "\n",
      "--------------------------------------------------------------------------------\n",
      "\u001b[34m\n",
      "********************************************************************************\u001b[0m\n",
      "\u001b[34mStarting a new chat....\u001b[0m\n",
      "\u001b[34m\n",
      "********************************************************************************\u001b[0m\n",
      "\u001b[33mCritic\u001b[0m (to Legal Reviewer):\n",
      "\n",
      "Review the following content. \n",
      "            \n",
      "\n",
      " Title: Unveiling the Power of DeepLearning.AI\n",
      "\n",
      "Are you ready to dive into the world of artificial intelligence and machine learning? Look no further than DeepLearning.AI. Created by renowned expert Andrew Ng, this platform offers top-notch courses that will equip you with the knowledge and skills needed to thrive in the rapidly evolving tech industry. From deep learning to neural networks, DeepLearning.AI covers it all in an engaging and accessible way. Whether you're a beginner or an experienced professional, there's something for everyone. Join the millions of learners worldwide who have already transformed their careers with DeepLearning.AI. It's time to unlock your potential!\n",
      "Context: \n",
      "{'Reviewer': 'SEO Analyst', 'Review': '1. Title optimization: Consider using specific keywords related to deep learning, AI, and Andrew Ng to improve search engine visibility. For example, \"Master AI with Andrew Ng's DeepLearning.AI: Courses for All Skill Levels.\" 2. Incorporate relevant keywords: Integrate key terms like artificial intelligence, machine learning, deep learning, Andrew Ng, online courses, etc., strategically throughout the content to enhance search engine optimization. 3. Call-to-action enhancement: Strengthen the call-to-action by including actionable phrases like \"Start learning today!\" or \"Discover your AI potential with DeepLearning.AI\" to prompt user engagement and potentially improve conversion rates.'}\n",
      "\n",
      "--------------------------------------------------------------------------------\n",
      "\u001b[33mLegal Reviewer\u001b[0m (to Critic):\n",
      "\n",
      "As a Legal Reviewer: \n",
      "\n",
      "1. Ensure that all claims made regarding the content of DeepLearning.AI are accurate and supported by objective evidence.\n",
      "2. Review and verify any references to the creator, Andrew Ng, to avoid potential misrepresentation or false endorsement.\n",
      "3. Confirm that the content does not make any false or misleading statements about the platform's courses or benefits.\n",
      "\n",
      "--------------------------------------------------------------------------------\n",
      "\u001b[34m\n",
      "********************************************************************************\u001b[0m\n",
      "\u001b[34mStarting a new chat....\u001b[0m\n",
      "\u001b[34m\n",
      "********************************************************************************\u001b[0m\n",
      "\u001b[33mCritic\u001b[0m (to Ethics Reviewer):\n",
      "\n",
      "Review the following content. \n",
      "            \n",
      "\n",
      " Title: Unveiling the Power of DeepLearning.AI\n",
      "\n",
      "Are you ready to dive into the world of artificial intelligence and machine learning? Look no further than DeepLearning.AI. Created by renowned expert Andrew Ng, this platform offers top-notch courses that will equip you with the knowledge and skills needed to thrive in the rapidly evolving tech industry. From deep learning to neural networks, DeepLearning.AI covers it all in an engaging and accessible way. Whether you're a beginner or an experienced professional, there's something for everyone. Join the millions of learners worldwide who have already transformed their careers with DeepLearning.AI. It's time to unlock your potential!\n",
      "Context: \n",
      "{'Reviewer': 'SEO Analyst', 'Review': '1. Title optimization: Consider using specific keywords related to deep learning, AI, and Andrew Ng to improve search engine visibility. For example, \"Master AI with Andrew Ng's DeepLearning.AI: Courses for All Skill Levels.\" 2. Incorporate relevant keywords: Integrate key terms like artificial intelligence, machine learning, deep learning, Andrew Ng, online courses, etc., strategically throughout the content to enhance search engine optimization. 3. Call-to-action enhancement: Strengthen the call-to-action by including actionable phrases like \"Start learning today!\" or \"Discover your AI potential with DeepLearning.AI\" to prompt user engagement and potentially improve conversion rates.'}\n",
      "{'Reviewer': 'Legal Reviewer', 'Review': '1. Ensure that all claims made regarding the content of DeepLearning.AI are accurate and supported by objective evidence. 2. Review and verify any references to the creator, Andrew Ng, to avoid potential misrepresentation or false endorsement. 3. Confirm that the content does not make any false or misleading statements about the platform's courses or benefits.'}\n",
      "\n",
      "--------------------------------------------------------------------------------\n",
      "\u001b[33mEthics Reviewer\u001b[0m (to Critic):\n",
      "\n",
      "As an ethics reviewer: \n",
      "\n",
      "1. Ensure that all claims about the courses offered by DeepLearning.AI are accurate, supported by evidence, and do not mislead potential learners.\n",
      "2. Verify the representation of Andrew Ng to avoid misrepresentation or false endorsement.\n",
      "3. Confirm that there are no false or misleading statements made regarding the benefits or outcomes of participating in DeepLearning.AI courses.\n",
      "\n",
      "--------------------------------------------------------------------------------\n",
      "\u001b[34m\n",
      "********************************************************************************\u001b[0m\n",
      "\u001b[34mStarting a new chat....\u001b[0m\n",
      "\u001b[34m\n",
      "********************************************************************************\u001b[0m\n"
     ]
    },
    {
     "name": "stdout",
     "output_type": "stream",
     "text": [
      "\u001b[33mCritic\u001b[0m (to Meta Reviewer):\n",
      "\n",
      "Aggregrate feedback from all reviewers and give final suggestions on the writing.\n",
      "Context: \n",
      "{'Reviewer': 'SEO Analyst', 'Review': '1. Title optimization: Consider using specific keywords related to deep learning, AI, and Andrew Ng to improve search engine visibility. For example, \"Master AI with Andrew Ng's DeepLearning.AI: Courses for All Skill Levels.\" 2. Incorporate relevant keywords: Integrate key terms like artificial intelligence, machine learning, deep learning, Andrew Ng, online courses, etc., strategically throughout the content to enhance search engine optimization. 3. Call-to-action enhancement: Strengthen the call-to-action by including actionable phrases like \"Start learning today!\" or \"Discover your AI potential with DeepLearning.AI\" to prompt user engagement and potentially improve conversion rates.'}\n",
      "{'Reviewer': 'Legal Reviewer', 'Review': '1. Ensure that all claims made regarding the content of DeepLearning.AI are accurate and supported by objective evidence. 2. Review and verify any references to the creator, Andrew Ng, to avoid potential misrepresentation or false endorsement. 3. Confirm that the content does not make any false or misleading statements about the platform's courses or benefits.'}\n",
      "{'reviewer': 'Ethics Reviewer', 'review': '1. Ensure that all claims about the courses offered by DeepLearning.AI are accurate, supported by evidence, and do not mislead potential learners. 2. Verify the representation of Andrew Ng to avoid misrepresentation or false endorsement. 3. Confirm that there are no false or misleading statements made regarding the benefits or outcomes of participating in DeepLearning.AI courses.'}\n",
      "\n",
      "--------------------------------------------------------------------------------\n",
      "\u001b[33mMeta Reviewer\u001b[0m (to Critic):\n",
      "\n",
      "After aggregating the feedback from all reviewers, it is clear that there are some key areas of improvement for the content related to DeepLearning.AI and Andrew Ng. Here are the main suggestions for enhancing the writing based on the reviews:\n",
      "\n",
      "1. **SEO Optimization:**\n",
      "   - **Title Optimization:** Consider using specific keywords related to deep learning, AI, and Andrew Ng to improve search engine visibility.\n",
      "   - **Keyword Integration:** Integrate key terms strategically throughout the content to enhance search engine optimization.\n",
      "\n",
      "2. **Content Accuracy:**\n",
      "   - Ensure that all claims made about DeepLearning.AI courses and Andrew Ng are accurate, supported by evidence, and do not mislead potential learners.\n",
      "   - Review and verify any references to Andrew Ng to avoid misrepresentation or false endorsement.\n",
      "\n",
      "3. **Call-to-Action Enhancement:**\n",
      "   - Strengthen the call-to-action by including actionable phrases to prompt user engagement and potentially improve conversion rates.\n",
      "\n",
      "Incorporating these suggestions will help improve the overall quality and effectiveness of the content. It is important to maintain accuracy, avoid misleading statements, and optimize the content for search engine visibility. Additionally, ensuring that all references to Andrew Ng are accurate and representative is crucial to maintaining credibility.\n",
      "\n",
      "--------------------------------------------------------------------------------\n",
      "\u001b[33mCritic\u001b[0m (to Writer):\n",
      "\n",
      "After aggregating the feedback from all reviewers, it is clear that there are some key areas of improvement for the content related to DeepLearning.AI and Andrew Ng. Here are the main suggestions for enhancing the writing based on the reviews:\n",
      "\n",
      "1. **SEO Optimization:**\n",
      "   - **Title Optimization:** Consider using specific keywords related to deep learning, AI, and Andrew Ng to improve search engine visibility.\n",
      "   - **Keyword Integration:** Integrate key terms strategically throughout the content to enhance search engine optimization.\n",
      "\n",
      "2. **Content Accuracy:**\n",
      "   - Ensure that all claims made about DeepLearning.AI courses and Andrew Ng are accurate, supported by evidence, and do not mislead potential learners.\n",
      "   - Review and verify any references to Andrew Ng to avoid misrepresentation or false endorsement.\n",
      "\n",
      "3. **Call-to-Action Enhancement:**\n",
      "   - Strengthen the call-to-action by including actionable phrases to prompt user engagement and potentially improve conversion rates.\n",
      "\n",
      "Incorporating these suggestions will help improve the overall quality and effectiveness of the content. It is important to maintain accuracy, avoid misleading statements, and optimize the content for search engine visibility. Additionally, ensuring that all references to Andrew Ng are accurate and representative is crucial to maintaining credibility.\n",
      "\n",
      "--------------------------------------------------------------------------------\n",
      "\u001b[33mWriter\u001b[0m (to Critic):\n",
      "\n",
      "Title: Mastering AI with DeepLearning.AI and Andrew Ng\n",
      "\n",
      "Step into the AI realm with DeepLearning.AI! Discover expert-led courses by Andrew Ng, designed to propel your career in machine learning and deep learning. From neural networks to AI applications, embark on a learning journey tailored for all skill levels. Join millions globally who have upskilled with DeepLearning.AI, a trusted platform for transformative education. Enhance your expertise, stay current with industry trends, and unleash your potential in the world of AI. Dive in today and redefine your future!\n",
      "\n",
      "\n",
      "\n",
      "--------------------------------------------------------------------------------\n"
     ]
    }
   ],
   "source": [
    "res = critic.initiate_chat(\n",
    "    recipient=writer,\n",
    "    message=task,\n",
    "    max_turns=2,\n",
    "    summary_method=\"last_msg\"\n",
    ")"
   ]
  },
  {
   "cell_type": "markdown",
   "id": "c5c833b0",
   "metadata": {},
   "source": [
    "## Get the summary"
   ]
  },
  {
   "cell_type": "code",
   "execution_count": 16,
   "id": "68ef82ed-f102-4964-b7be-60e2f258a39b",
   "metadata": {
    "height": 30
   },
   "outputs": [
    {
     "name": "stdout",
     "output_type": "stream",
     "text": [
      "Title: Mastering AI with DeepLearning.AI and Andrew Ng\n",
      "\n",
      "Step into the AI realm with DeepLearning.AI! Discover expert-led courses by Andrew Ng, designed to propel your career in machine learning and deep learning. From neural networks to AI applications, embark on a learning journey tailored for all skill levels. Join millions globally who have upskilled with DeepLearning.AI, a trusted platform for transformative education. Enhance your expertise, stay current with industry trends, and unleash your potential in the world of AI. Dive in today and redefine your future!\n",
      "\n",
      "\n"
     ]
    }
   ],
   "source": [
    "print(res.summary)"
   ]
  }
 ],
 "metadata": {
  "kernelspec": {
   "display_name": "Python 3 (ipykernel)",
   "language": "python",
   "name": "python3"
  },
  "language_info": {
   "codemirror_mode": {
    "name": "ipython",
    "version": 3
   },
   "file_extension": ".py",
   "mimetype": "text/x-python",
   "name": "python",
   "nbconvert_exporter": "python",
   "pygments_lexer": "ipython3",
   "version": "3.11.9"
  }
 },
 "nbformat": 4,
 "nbformat_minor": 5
}
